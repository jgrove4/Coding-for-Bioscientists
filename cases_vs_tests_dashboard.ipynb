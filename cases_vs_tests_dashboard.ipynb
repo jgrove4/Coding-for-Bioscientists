{
 "cells": [
  {
   "cell_type": "markdown",
   "id": "e852a941-487c-4cac-a741-c60d973f8a7b",
   "metadata": {},
   "source": [
    "## Covid 19 cases compared to PCR tests taken for every date since the pandemic began"
   ]
  },
  {
   "cell_type": "code",
   "execution_count": 5,
   "id": "21674b15-e63e-4016-897d-4b3e5244968e",
   "metadata": {},
   "outputs": [],
   "source": [
    "from IPython.display import clear_output\n",
    "import ipywidgets as wdg\n",
    "import pandas as pd\n",
    "import numpy as np\n",
    "import matplotlib.pyplot as plt\n",
    "import json\n",
    "from uk_covid19 import Cov19API\n",
    "\n",
    "%matplotlib inline\n",
    "# make figures larger\n",
    "plt.rcParams['figure.dpi'] = 100\n",
    "\n",
    "with open(\"cases_vs_tests.json\", \"r\") as INFILE:\n",
    "    data = json.load(INFILE)"
   ]
  },
  {
   "cell_type": "markdown",
   "id": "70146dd5-a160-44ad-ab71-d075084920f3",
   "metadata": {},
   "source": [
    "# Below is the data frame containing the dates with their corresponding values for the number of cumulative cases and cumulative PCR test on that date"
   ]
  },
  {
   "cell_type": "code",
   "execution_count": 9,
   "id": "ddf14d73-1a68-4830-8e1b-34136cb6dad3",
   "metadata": {},
   "outputs": [
    {
     "data": {
      "text/html": [
       "<div>\n",
       "<style scoped>\n",
       "    .dataframe tbody tr th:only-of-type {\n",
       "        vertical-align: middle;\n",
       "    }\n",
       "\n",
       "    .dataframe tbody tr th {\n",
       "        vertical-align: top;\n",
       "    }\n",
       "\n",
       "    .dataframe thead th {\n",
       "        text-align: right;\n",
       "    }\n",
       "</style>\n",
       "<table border=\"1\" class=\"dataframe\">\n",
       "  <thead>\n",
       "    <tr style=\"text-align: right;\">\n",
       "      <th></th>\n",
       "      <th>cum_cases</th>\n",
       "      <th>cum_PCR</th>\n",
       "    </tr>\n",
       "  </thead>\n",
       "  <tbody>\n",
       "    <tr>\n",
       "      <th>2020-01-31</th>\n",
       "      <td>2.0</td>\n",
       "      <td>0.0</td>\n",
       "    </tr>\n",
       "    <tr>\n",
       "      <th>2020-02-01</th>\n",
       "      <td>2.0</td>\n",
       "      <td>0.0</td>\n",
       "    </tr>\n",
       "    <tr>\n",
       "      <th>2020-02-02</th>\n",
       "      <td>2.0</td>\n",
       "      <td>0.0</td>\n",
       "    </tr>\n",
       "    <tr>\n",
       "      <th>2020-02-03</th>\n",
       "      <td>2.0</td>\n",
       "      <td>0.0</td>\n",
       "    </tr>\n",
       "    <tr>\n",
       "      <th>2020-02-04</th>\n",
       "      <td>2.0</td>\n",
       "      <td>0.0</td>\n",
       "    </tr>\n",
       "    <tr>\n",
       "      <th>...</th>\n",
       "      <td>...</td>\n",
       "      <td>...</td>\n",
       "    </tr>\n",
       "    <tr>\n",
       "      <th>2022-10-16</th>\n",
       "      <td>20086702.0</td>\n",
       "      <td>172344142.0</td>\n",
       "    </tr>\n",
       "    <tr>\n",
       "      <th>2022-10-17</th>\n",
       "      <td>20086702.0</td>\n",
       "      <td>172364365.0</td>\n",
       "    </tr>\n",
       "    <tr>\n",
       "      <th>2022-10-18</th>\n",
       "      <td>20086702.0</td>\n",
       "      <td>172397006.0</td>\n",
       "    </tr>\n",
       "    <tr>\n",
       "      <th>2022-10-19</th>\n",
       "      <td>20086702.0</td>\n",
       "      <td>172432044.0</td>\n",
       "    </tr>\n",
       "    <tr>\n",
       "      <th>2022-10-20</th>\n",
       "      <td>20139321.0</td>\n",
       "      <td>0.0</td>\n",
       "    </tr>\n",
       "  </tbody>\n",
       "</table>\n",
       "<p>994 rows × 2 columns</p>\n",
       "</div>"
      ],
      "text/plain": [
       "             cum_cases      cum_PCR\n",
       "2020-01-31         2.0          0.0\n",
       "2020-02-01         2.0          0.0\n",
       "2020-02-02         2.0          0.0\n",
       "2020-02-03         2.0          0.0\n",
       "2020-02-04         2.0          0.0\n",
       "...                ...          ...\n",
       "2022-10-16  20086702.0  172344142.0\n",
       "2022-10-17  20086702.0  172364365.0\n",
       "2022-10-18  20086702.0  172397006.0\n",
       "2022-10-19  20086702.0  172432044.0\n",
       "2022-10-20  20139321.0          0.0\n",
       "\n",
       "[994 rows x 2 columns]"
      ]
     },
     "execution_count": 9,
     "metadata": {},
     "output_type": "execute_result"
    }
   ],
   "source": [
    "datalist = data[\"data\"]\n",
    "dates = [dictionary[\"date\"] for dictionary in datalist]\n",
    "dates.sort()  \n",
    "\n",
    "def parse_date(datestring):\n",
    "    return pd.to_datetime(datestring, format = \"%Y-%m-%d\")\n",
    "\n",
    "startdate = parse_date(dates[0])\n",
    "enddate = parse_date(dates[-1])\n",
    "\n",
    "index = pd.date_range(startdate, enddate, freq = \"D\")\n",
    "cases_vs_testsdf = pd.DataFrame(index = index, columns = [\"cum_cases\", \"cum_PCR\"])\n",
    "\n",
    "for entry in datalist:\n",
    "    date = parse_date(entry[\"date\"])\n",
    "    for column in [\"cum_cases\", \"cum_PCR\"]:\n",
    "        if pd.isna(cases_vs_testsdf.loc[date, column]):\n",
    "            value = float(entry[column]) if entry[column] != None else 0.0\n",
    "            cases_vs_testsdf.loc[date, column] = value\n",
    "\n",
    "cases_vs_testsdf.fillna(0.0, inplace = True)\n",
    "cases_vs_testsdf"
   ]
  },
  {
   "cell_type": "markdown",
   "id": "661f17a5-ad2c-4f5f-be09-23e66bfe43bd",
   "metadata": {},
   "source": [
    "# Please press the following button to refresh the data. This will provide you with the most up to date data"
   ]
  },
  {
   "cell_type": "code",
   "execution_count": 10,
   "id": "41b1164d-2e48-4248-a628-b4d6ca355db4",
   "metadata": {},
   "outputs": [
    {
     "data": {
      "application/vnd.jupyter.widget-view+json": {
       "model_id": "86bae738990f4918b945271f33ccd590",
       "version_major": 2,
       "version_minor": 0
      },
      "text/plain": [
       "Button(button_style='success', description='Refresh data', icon='hippo', style=ButtonStyle(), tooltip='Click t…"
      ]
     },
     "metadata": {},
     "output_type": "display_data"
    }
   ],
   "source": [
    "def access_api(button):\n",
    "    from uk_covid19 import Cov19API\n",
    "    import json\n",
    "\n",
    "    filters = [\n",
    "        'areaType=nation',\n",
    "        'areaName=england']\n",
    "    structure = {\n",
    "        'date':'date',\n",
    "        'cum_cases':'cumCasesByPublishDate',\n",
    "        'cum_PCR':'cumPCRTestsByPublishDate'}\n",
    "\n",
    "    api = Cov19API(filters=filters, structure=structure)\n",
    "    cases_vs_tests = api.get_json()\n",
    "\n",
    "    with open(\"cases_vs_tests.json\", \"wt\") as OUTF:\n",
    "        json.dump(cases_vs_tests, OUTF)\n",
    "\n",
    "    apibutton.icon=\"ghost\"\n",
    "    apibutton.disabled=True\n",
    "    \n",
    "apibutton=wdg.Button(\n",
    "    description='Refresh data',\n",
    "    disabled=False,\n",
    "    button_style='success', # 'success' (green), 'info' (blue), 'warning' (orange), 'danger' (red) or '' which changes the button colour\n",
    "    tooltip='Click to download current Public Health England data',\n",
    "    icon='hippo' # (FontAwesome name without the `fa-` prefix - names found on the fontawesome website under the free section)\n",
    ")\n",
    "\n",
    "apibutton.on_click(access_api) # register the callback function with the button\n",
    "\n",
    "\n",
    "display(apibutton)"
   ]
  },
  {
   "cell_type": "markdown",
   "id": "7883ffa5-e208-4fbe-a554-28d9d7d31825",
   "metadata": {},
   "source": [
    "# Plot the graph of the refreshed data, which will allow you to visualise number Covid 19 cases and PCR tests in England for each date since records began at the start of the pandemic"
   ]
  },
  {
   "cell_type": "code",
   "execution_count": 13,
   "id": "0eaef88d-3003-4d5e-aee6-28c1634d0219",
   "metadata": {},
   "outputs": [
    {
     "data": {
      "application/vnd.jupyter.widget-view+json": {
       "model_id": "528821c3e5a9412295e93211535c5661",
       "version_major": 2,
       "version_minor": 0
      },
      "text/plain": [
       "HBox(children=(Output(), VBox(children=(SelectMultiple(description='Stats:', index=(0, 1), options=('cum_cases…"
      ]
     },
     "metadata": {},
     "output_type": "display_data"
    }
   ],
   "source": [
    "series=wdg.SelectMultiple(\n",
    "    options=['cum_cases', 'cum_PCR'],\n",
    "    value=['cum_cases', 'cum_PCR'],\n",
    "    rows=2,\n",
    "    description='Stats:',\n",
    "    disabled=False\n",
    ")\n",
    "\n",
    "scale=wdg.RadioButtons(\n",
    "    options=['linear', 'log'],\n",
    "    description='Scale:',\n",
    "    disabled=False\n",
    ")\n",
    "\n",
    "controls=wdg.VBox([series, scale])\n",
    "\n",
    "def refresh_graph():\n",
    "    \"\"\" We change the value of the widget in order to force a redraw of the graph;\n",
    "    this is useful when the data have been updated. This is a bit of a gimmick; it\n",
    "    needs to be customised for one of your widgets. \"\"\"\n",
    "    current=series.value\n",
    "    if current==series.options[0]:\n",
    "        other=series.options[1]\n",
    "    else:\n",
    "        other=series.options[0]\n",
    "    series.value=other \n",
    "    series.value=current \n",
    "\n",
    "\n",
    "def cases_vs_tests_graph(gcols, gscale):\n",
    "    if gscale=='linear':\n",
    "        logscale=False\n",
    "    else:\n",
    "        logscale=True\n",
    "    ncols=len(gcols)\n",
    "    if ncols>0:\n",
    "        cases_vs_testsdf[list(gcols)].plot(logy=logscale)   \n",
    "        plt.show() \n",
    "    else:\n",
    "        print(\"Click to select data for graph\")\n",
    "        print(\"(CTRL-Click to select more than one category)\")\n",
    "\n",
    "graph=wdg.interactive_output(cases_vs_tests_graph, {'gcols': series, 'gscale': scale})\n",
    "\n",
    "form=wdg.HBox([graph, controls])\n",
    "\n",
    "display(form)"
   ]
  }
 ],
 "metadata": {
  "kernelspec": {
   "display_name": "Python 3 (ipykernel)",
   "language": "python",
   "name": "python3"
  },
  "language_info": {
   "codemirror_mode": {
    "name": "ipython",
    "version": 3
   },
   "file_extension": ".py",
   "mimetype": "text/x-python",
   "name": "python",
   "nbconvert_exporter": "python",
   "pygments_lexer": "ipython3",
   "version": "3.10.6"
  }
 },
 "nbformat": 4,
 "nbformat_minor": 5
}
